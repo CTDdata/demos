{
 "cells": [
  {
   "cell_type": "code",
   "execution_count": 4,
   "id": "637b6fd7",
   "metadata": {
    "scrolled": true
   },
   "outputs": [],
   "source": [
    "#data source: https://github.com/fivethirtyeight/data/blob/master/congress-age/congress-terms.csv\n",
    "import pandas as pd\n",
    "df = pd.read_csv('congress-terms.csv') #import congress data\n",
    "#df.head()"
   ]
  },
  {
   "cell_type": "code",
   "execution_count": 5,
   "id": "43996e28",
   "metadata": {},
   "outputs": [],
   "source": [
    "df = df[df['congress'] == 113] #limit to most recent congressional term in dataset\n",
    "#df.head()"
   ]
  },
  {
   "cell_type": "code",
   "execution_count": 6,
   "id": "86e9a4fc",
   "metadata": {},
   "outputs": [
    {
     "data": {
      "text/html": [
       "<div>\n",
       "<style scoped>\n",
       "    .dataframe tbody tr th:only-of-type {\n",
       "        vertical-align: middle;\n",
       "    }\n",
       "\n",
       "    .dataframe tbody tr th {\n",
       "        vertical-align: top;\n",
       "    }\n",
       "\n",
       "    .dataframe thead th {\n",
       "        text-align: right;\n",
       "    }\n",
       "</style>\n",
       "<table border=\"1\" class=\"dataframe\">\n",
       "  <thead>\n",
       "    <tr style=\"text-align: right;\">\n",
       "      <th></th>\n",
       "      <th>chamber</th>\n",
       "      <th>party</th>\n",
       "      <th>percent</th>\n",
       "    </tr>\n",
       "  </thead>\n",
       "  <tbody>\n",
       "    <tr>\n",
       "      <th>0</th>\n",
       "      <td>house</td>\n",
       "      <td>R</td>\n",
       "      <td>0.539863</td>\n",
       "    </tr>\n",
       "    <tr>\n",
       "      <th>1</th>\n",
       "      <td>house</td>\n",
       "      <td>D</td>\n",
       "      <td>0.460137</td>\n",
       "    </tr>\n",
       "    <tr>\n",
       "      <th>2</th>\n",
       "      <td>senate</td>\n",
       "      <td>D</td>\n",
       "      <td>0.542857</td>\n",
       "    </tr>\n",
       "    <tr>\n",
       "      <th>3</th>\n",
       "      <td>senate</td>\n",
       "      <td>R</td>\n",
       "      <td>0.438095</td>\n",
       "    </tr>\n",
       "    <tr>\n",
       "      <th>4</th>\n",
       "      <td>senate</td>\n",
       "      <td>I</td>\n",
       "      <td>0.019048</td>\n",
       "    </tr>\n",
       "  </tbody>\n",
       "</table>\n",
       "</div>"
      ],
      "text/plain": [
       "  chamber party   percent\n",
       "0   house     R  0.539863\n",
       "1   house     D  0.460137\n",
       "2  senate     D  0.542857\n",
       "3  senate     R  0.438095\n",
       "4  senate     I  0.019048"
      ]
     },
     "execution_count": 6,
     "metadata": {},
     "output_type": "execute_result"
    }
   ],
   "source": [
    "table = df.groupby('chamber')['party'].value_counts(normalize = True).to_frame(\n",
    "    name = 'percent').reset_index()\n",
    "table"
   ]
  },
  {
   "cell_type": "code",
   "execution_count": 7,
   "id": "56891525",
   "metadata": {},
   "outputs": [],
   "source": [
    "table.to_csv('chamber_party_pct.csv') #export to CSV"
   ]
  },
  {
   "cell_type": "code",
   "execution_count": 8,
   "id": "494f4032",
   "metadata": {},
   "outputs": [
    {
     "data": {
      "text/html": [
       "<div>\n",
       "<style scoped>\n",
       "    .dataframe tbody tr th:only-of-type {\n",
       "        vertical-align: middle;\n",
       "    }\n",
       "\n",
       "    .dataframe tbody tr th {\n",
       "        vertical-align: top;\n",
       "    }\n",
       "\n",
       "    .dataframe thead th {\n",
       "        text-align: right;\n",
       "    }\n",
       "</style>\n",
       "<table border=\"1\" class=\"dataframe\">\n",
       "  <thead>\n",
       "    <tr style=\"text-align: right;\">\n",
       "      <th>party</th>\n",
       "      <th>D</th>\n",
       "      <th>I</th>\n",
       "      <th>R</th>\n",
       "    </tr>\n",
       "    <tr>\n",
       "      <th>chamber</th>\n",
       "      <th></th>\n",
       "      <th></th>\n",
       "      <th></th>\n",
       "    </tr>\n",
       "  </thead>\n",
       "  <tbody>\n",
       "    <tr>\n",
       "      <th>house</th>\n",
       "      <td>0.460137</td>\n",
       "      <td>NaN</td>\n",
       "      <td>0.539863</td>\n",
       "    </tr>\n",
       "    <tr>\n",
       "      <th>senate</th>\n",
       "      <td>0.542857</td>\n",
       "      <td>0.019048</td>\n",
       "      <td>0.438095</td>\n",
       "    </tr>\n",
       "  </tbody>\n",
       "</table>\n",
       "</div>"
      ],
      "text/plain": [
       "party           D         I         R\n",
       "chamber                              \n",
       "house    0.460137       NaN  0.539863\n",
       "senate   0.542857  0.019048  0.438095"
      ]
     },
     "execution_count": 8,
     "metadata": {},
     "output_type": "execute_result"
    }
   ],
   "source": [
    "#create pivot table to use in google sheets\n",
    "pvt_table = table.pivot(index = 'chamber', columns = 'party', values = 'percent')\n",
    "pvt_table"
   ]
  },
  {
   "cell_type": "code",
   "execution_count": 9,
   "id": "5c8012db",
   "metadata": {},
   "outputs": [],
   "source": [
    "pvt_table.to_csv('pvt_chamber_party_pct.csv') #export pivot table to CSV"
   ]
  },
  {
   "cell_type": "code",
   "execution_count": null,
   "id": "9ceb698a",
   "metadata": {},
   "outputs": [],
   "source": []
  }
 ],
 "metadata": {
  "kernelspec": {
   "display_name": "Python 3 (ipykernel)",
   "language": "python",
   "name": "python3"
  },
  "language_info": {
   "codemirror_mode": {
    "name": "ipython",
    "version": 3
   },
   "file_extension": ".py",
   "mimetype": "text/x-python",
   "name": "python",
   "nbconvert_exporter": "python",
   "pygments_lexer": "ipython3",
   "version": "3.10.1"
  }
 },
 "nbformat": 4,
 "nbformat_minor": 5
}
