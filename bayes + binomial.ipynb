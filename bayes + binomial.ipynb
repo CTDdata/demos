{
 "cells": [
  {
   "cell_type": "code",
   "execution_count": 3,
   "id": "1fc6aeff",
   "metadata": {},
   "outputs": [
    {
     "name": "stdout",
     "output_type": "stream",
     "text": [
      "0.09090991736288512\n",
      "0.18333333333333335\n"
     ]
    }
   ],
   "source": [
    "import numpy\n",
    "import math\n",
    "\n",
    "p_BgA = 1 #probability we test positive given disease\n",
    "p_BgnA = 0.0001 #probability we test positive without disease\n",
    "p_A = 0.00001 #probabilty we have disease\n",
    "p_nA = 0.99999 #probability we don't have disease\n",
    "\n",
    "#bayse formula function \n",
    "def bayse(p_BgA, p_BgnA, p_A, p_nA):\n",
    "    numer = p_A * p_BgA\n",
    "    denom = p_A*p_BgA + p_nA*p_BgnA\n",
    "    return numer/denom\n",
    "\n",
    "print(bayse(p_BgA, p_BgnA, p_A, p_nA))\n",
    "print(bayse(0.99, 0.09, 0.02, 0.98))\n",
    "    \n",
    "    \n"
   ]
  },
  {
   "cell_type": "code",
   "execution_count": 4,
   "id": "e6d6d46f",
   "metadata": {},
   "outputs": [
    {
     "data": {
      "text/plain": [
       "0.1640625"
      ]
     },
     "execution_count": 4,
     "metadata": {},
     "output_type": "execute_result"
    }
   ],
   "source": [
    "import numpy as np\n",
    "N = 9 #num trials\n",
    "X = 6 #num successes\n",
    "pr = 0.5 #probabilty of success\n",
    "\n",
    "def calc_prob(N, X, pr):\n",
    "    numer = np.math.factorial(N)\n",
    "    denom = np.math.factorial(N-X) * np.math.factorial(X)\n",
    "    coeff_1 = pr**X\n",
    "    coeff_2 = (1-pr)**(N-X)\n",
    "    return (numer/denom)*coeff_1*coeff_2\n",
    "\n",
    "calc_prob(N, X, pr)"
   ]
  },
  {
   "cell_type": "code",
   "execution_count": 10,
   "id": "ede1a7d3",
   "metadata": {},
   "outputs": [
    {
     "name": "stdout",
     "output_type": "stream",
     "text": [
      "5\n",
      "6\n",
      "7\n",
      "8\n",
      "9\n",
      "0.26656768000000003\n"
     ]
    }
   ],
   "source": [
    "prob = 0\n",
    "for i in range(5, 10): #i will stop iterating before it gets to max\n",
    "    pr = 1 - 0.6\n",
    "    prob += calc_prob(9, i, pr)\n",
    "    print(i)\n",
    "\n",
    "print(prob)\n",
    "#print(calc_prob(9, 5, 0.4))\n",
    "    "
   ]
  },
  {
   "cell_type": "code",
   "execution_count": null,
   "id": "7cf0ea56",
   "metadata": {},
   "outputs": [],
   "source": []
  }
 ],
 "metadata": {
  "kernelspec": {
   "display_name": "Python 3 (ipykernel)",
   "language": "python",
   "name": "python3"
  },
  "language_info": {
   "codemirror_mode": {
    "name": "ipython",
    "version": 3
   },
   "file_extension": ".py",
   "mimetype": "text/x-python",
   "name": "python",
   "nbconvert_exporter": "python",
   "pygments_lexer": "ipython3",
   "version": "3.10.1"
  }
 },
 "nbformat": 4,
 "nbformat_minor": 5
}
