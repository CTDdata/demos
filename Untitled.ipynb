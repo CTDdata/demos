{
 "cells": [
  {
   "cell_type": "code",
   "execution_count": 1,
   "id": "27e61c73",
   "metadata": {},
   "outputs": [
    {
     "name": "stdout",
     "output_type": "stream",
     "text": [
      "0.5686997039694639\n"
     ]
    }
   ],
   "source": [
    "#birthday problem\n",
    "import numpy as np\n",
    "numerator = np.math.factorial(364)/np.math.factorial(340)\n",
    "denominator = 365**24\n",
    "answer = 1 - numerator/denominator\n",
    "print(answer)"
   ]
  },
  {
   "cell_type": "code",
   "execution_count": 4,
   "id": "4a668e89",
   "metadata": {},
   "outputs": [
    {
     "data": {
      "text/plain": [
       "{('car', 'goat', 'goat'), ('goat', 'car', 'goat'), ('goat', 'goat', 'car')}"
      ]
     },
     "execution_count": 4,
     "metadata": {},
     "output_type": "execute_result"
    }
   ],
   "source": [
    "#monty hall problem\n",
    "import itertools\n",
    "import pandas as pd\n",
    "doors = ['goat', 'goat', 'car']\n",
    "permus = list(itertools.permutations(doors)) #get all permutations of goat-goat-car\n",
    "permus = set(permus) #limit to unique permutations\n",
    "permus"
   ]
  },
  {
   "cell_type": "code",
   "execution_count": 13,
   "id": "0794280f",
   "metadata": {},
   "outputs": [
    {
     "data": {
      "text/html": [
       "<div>\n",
       "<style scoped>\n",
       "    .dataframe tbody tr th:only-of-type {\n",
       "        vertical-align: middle;\n",
       "    }\n",
       "\n",
       "    .dataframe tbody tr th {\n",
       "        vertical-align: top;\n",
       "    }\n",
       "\n",
       "    .dataframe thead th {\n",
       "        text-align: right;\n",
       "    }\n",
       "</style>\n",
       "<table border=\"1\" class=\"dataframe\">\n",
       "  <thead>\n",
       "    <tr style=\"text-align: right;\">\n",
       "      <th></th>\n",
       "      <th>selection</th>\n",
       "      <th>remaining</th>\n",
       "      <th>action</th>\n",
       "    </tr>\n",
       "  </thead>\n",
       "  <tbody>\n",
       "    <tr>\n",
       "      <th>0</th>\n",
       "      <td>[car]-goat-goat</td>\n",
       "      <td>goat-goat</td>\n",
       "      <td>should keep</td>\n",
       "    </tr>\n",
       "    <tr>\n",
       "      <th>1</th>\n",
       "      <td>[goat]-car-goat</td>\n",
       "      <td>car-goat</td>\n",
       "      <td>should switch</td>\n",
       "    </tr>\n",
       "    <tr>\n",
       "      <th>2</th>\n",
       "      <td>[goat]-goat-car</td>\n",
       "      <td>goat-car</td>\n",
       "      <td>should switch</td>\n",
       "    </tr>\n",
       "    <tr>\n",
       "      <th>3</th>\n",
       "      <td>car-[goat]-goat</td>\n",
       "      <td>car-goat</td>\n",
       "      <td>should switch</td>\n",
       "    </tr>\n",
       "    <tr>\n",
       "      <th>4</th>\n",
       "      <td>goat-[car]-goat</td>\n",
       "      <td>goat-goat</td>\n",
       "      <td>should keep</td>\n",
       "    </tr>\n",
       "    <tr>\n",
       "      <th>5</th>\n",
       "      <td>goat-[goat]-car</td>\n",
       "      <td>goat-car</td>\n",
       "      <td>should switch</td>\n",
       "    </tr>\n",
       "    <tr>\n",
       "      <th>6</th>\n",
       "      <td>car-goat-[goat]</td>\n",
       "      <td>car-goat</td>\n",
       "      <td>should switch</td>\n",
       "    </tr>\n",
       "    <tr>\n",
       "      <th>7</th>\n",
       "      <td>goat-car-[goat]</td>\n",
       "      <td>goat-car</td>\n",
       "      <td>should switch</td>\n",
       "    </tr>\n",
       "    <tr>\n",
       "      <th>8</th>\n",
       "      <td>goat-goat-[car]</td>\n",
       "      <td>goat-goat</td>\n",
       "      <td>should keep</td>\n",
       "    </tr>\n",
       "  </tbody>\n",
       "</table>\n",
       "</div>"
      ],
      "text/plain": [
       "         selection  remaining         action\n",
       "0  [car]-goat-goat  goat-goat    should keep\n",
       "1  [goat]-car-goat   car-goat  should switch\n",
       "2  [goat]-goat-car   goat-car  should switch\n",
       "3  car-[goat]-goat   car-goat  should switch\n",
       "4  goat-[car]-goat  goat-goat    should keep\n",
       "5  goat-[goat]-car   goat-car  should switch\n",
       "6  car-goat-[goat]   car-goat  should switch\n",
       "7  goat-car-[goat]   goat-car  should switch\n",
       "8  goat-goat-[car]  goat-goat    should keep"
      ]
     },
     "execution_count": 13,
     "metadata": {},
     "output_type": "execute_result"
    }
   ],
   "source": [
    "import pandas as pd\n",
    "should_table = []\n",
    "for i in range(3): #loop through each possible door choice\n",
    "    for p in permus: #loop through each possible door order\n",
    "        p = list(p)\n",
    "        p[i] = '[{}]'.format(p[i])\n",
    "        alldoors = ('-'.join(p))\n",
    "        p.pop(i) #remove the door we selected\n",
    "        #print(p) #prints remaining doors\n",
    "        if p == ['goat', 'goat']:\n",
    "            should = 'should keep'\n",
    "        else:\n",
    "            should = 'should switch'\n",
    "        should_table.append([alldoors, '-'.join(p), should])\n",
    "should_table = pd.DataFrame(should_table, columns = ['selection', 'remaining', 'action'])\n",
    "should_table\n",
    "        \n",
    "        "
   ]
  },
  {
   "cell_type": "code",
   "execution_count": null,
   "id": "f4dfc647",
   "metadata": {},
   "outputs": [],
   "source": []
  }
 ],
 "metadata": {
  "kernelspec": {
   "display_name": "Python 3 (ipykernel)",
   "language": "python",
   "name": "python3"
  },
  "language_info": {
   "codemirror_mode": {
    "name": "ipython",
    "version": 3
   },
   "file_extension": ".py",
   "mimetype": "text/x-python",
   "name": "python",
   "nbconvert_exporter": "python",
   "pygments_lexer": "ipython3",
   "version": "3.10.1"
  }
 },
 "nbformat": 4,
 "nbformat_minor": 5
}
