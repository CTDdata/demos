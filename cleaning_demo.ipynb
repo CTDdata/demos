{
 "cells": [
  {
   "cell_type": "code",
   "execution_count": 1,
   "id": "304ec135",
   "metadata": {},
   "outputs": [
    {
     "data": {
      "text/html": [
       "<div>\n",
       "<style scoped>\n",
       "    .dataframe tbody tr th:only-of-type {\n",
       "        vertical-align: middle;\n",
       "    }\n",
       "\n",
       "    .dataframe tbody tr th {\n",
       "        vertical-align: top;\n",
       "    }\n",
       "\n",
       "    .dataframe thead th {\n",
       "        text-align: right;\n",
       "    }\n",
       "</style>\n",
       "<table border=\"1\" class=\"dataframe\">\n",
       "  <thead>\n",
       "    <tr style=\"text-align: right;\">\n",
       "      <th></th>\n",
       "      <th>Unnamed: 0</th>\n",
       "      <th>age</th>\n",
       "      <th>potato_score</th>\n",
       "      <th>name</th>\n",
       "    </tr>\n",
       "  </thead>\n",
       "  <tbody>\n",
       "    <tr>\n",
       "      <th>0</th>\n",
       "      <td>0</td>\n",
       "      <td>51</td>\n",
       "      <td>0.274015</td>\n",
       "      <td>Nixie</td>\n",
       "    </tr>\n",
       "    <tr>\n",
       "      <th>1</th>\n",
       "      <td>1</td>\n",
       "      <td>18</td>\n",
       "      <td>NaN</td>\n",
       "      <td>Jocelyne</td>\n",
       "    </tr>\n",
       "    <tr>\n",
       "      <th>2</th>\n",
       "      <td>2</td>\n",
       "      <td>70</td>\n",
       "      <td>0.561623</td>\n",
       "      <td>Virginia</td>\n",
       "    </tr>\n",
       "    <tr>\n",
       "      <th>3</th>\n",
       "      <td>3</td>\n",
       "      <td>69</td>\n",
       "      <td>0.397647</td>\n",
       "      <td>Lesley</td>\n",
       "    </tr>\n",
       "    <tr>\n",
       "      <th>4</th>\n",
       "      <td>4</td>\n",
       "      <td>75</td>\n",
       "      <td>0.322063</td>\n",
       "      <td>Juliana</td>\n",
       "    </tr>\n",
       "  </tbody>\n",
       "</table>\n",
       "</div>"
      ],
      "text/plain": [
       "   Unnamed: 0 age  potato_score      name\n",
       "0           0  51      0.274015     Nixie\n",
       "1           1  18           NaN  Jocelyne\n",
       "2           2  70      0.561623  Virginia\n",
       "3           3  69      0.397647    Lesley\n",
       "4           4  75      0.322063   Juliana"
      ]
     },
     "execution_count": 1,
     "metadata": {},
     "output_type": "execute_result"
    }
   ],
   "source": [
    "import pandas as pd\n",
    "df = pd.read_csv('dummy_demo.csv')\n",
    "df.head()"
   ]
  },
  {
   "cell_type": "code",
   "execution_count": 2,
   "id": "57566224",
   "metadata": {},
   "outputs": [
    {
     "data": {
      "text/html": [
       "<div>\n",
       "<style scoped>\n",
       "    .dataframe tbody tr th:only-of-type {\n",
       "        vertical-align: middle;\n",
       "    }\n",
       "\n",
       "    .dataframe tbody tr th {\n",
       "        vertical-align: top;\n",
       "    }\n",
       "\n",
       "    .dataframe thead th {\n",
       "        text-align: right;\n",
       "    }\n",
       "</style>\n",
       "<table border=\"1\" class=\"dataframe\">\n",
       "  <thead>\n",
       "    <tr style=\"text-align: right;\">\n",
       "      <th></th>\n",
       "      <th>Unnamed: 0</th>\n",
       "      <th>potato_score</th>\n",
       "    </tr>\n",
       "  </thead>\n",
       "  <tbody>\n",
       "    <tr>\n",
       "      <th>count</th>\n",
       "      <td>10000.00000</td>\n",
       "      <td>9022.000000</td>\n",
       "    </tr>\n",
       "    <tr>\n",
       "      <th>mean</th>\n",
       "      <td>4999.50000</td>\n",
       "      <td>inf</td>\n",
       "    </tr>\n",
       "    <tr>\n",
       "      <th>std</th>\n",
       "      <td>2886.89568</td>\n",
       "      <td>NaN</td>\n",
       "    </tr>\n",
       "    <tr>\n",
       "      <th>min</th>\n",
       "      <td>0.00000</td>\n",
       "      <td>0.000088</td>\n",
       "    </tr>\n",
       "    <tr>\n",
       "      <th>25%</th>\n",
       "      <td>2499.75000</td>\n",
       "      <td>0.251260</td>\n",
       "    </tr>\n",
       "    <tr>\n",
       "      <th>50%</th>\n",
       "      <td>4999.50000</td>\n",
       "      <td>0.501230</td>\n",
       "    </tr>\n",
       "    <tr>\n",
       "      <th>75%</th>\n",
       "      <td>7499.25000</td>\n",
       "      <td>0.746332</td>\n",
       "    </tr>\n",
       "    <tr>\n",
       "      <th>max</th>\n",
       "      <td>9999.00000</td>\n",
       "      <td>inf</td>\n",
       "    </tr>\n",
       "  </tbody>\n",
       "</table>\n",
       "</div>"
      ],
      "text/plain": [
       "        Unnamed: 0  potato_score\n",
       "count  10000.00000   9022.000000\n",
       "mean    4999.50000           inf\n",
       "std     2886.89568           NaN\n",
       "min        0.00000      0.000088\n",
       "25%     2499.75000      0.251260\n",
       "50%     4999.50000      0.501230\n",
       "75%     7499.25000      0.746332\n",
       "max     9999.00000           inf"
      ]
     },
     "execution_count": 2,
     "metadata": {},
     "output_type": "execute_result"
    }
   ],
   "source": [
    "df.describe() #describes only numerical data "
   ]
  },
  {
   "cell_type": "code",
   "execution_count": 3,
   "id": "3052b364",
   "metadata": {},
   "outputs": [
    {
     "name": "stdout",
     "output_type": "stream",
     "text": [
      "<class 'pandas.core.frame.DataFrame'>\n",
      "RangeIndex: 10000 entries, 0 to 9999\n",
      "Data columns (total 4 columns):\n",
      " #   Column        Non-Null Count  Dtype  \n",
      "---  ------        --------------  -----  \n",
      " 0   Unnamed: 0    10000 non-null  int64  \n",
      " 1   age           10000 non-null  object \n",
      " 2   potato_score  9022 non-null   float64\n",
      " 3   name          10000 non-null  object \n",
      "dtypes: float64(1), int64(1), object(2)\n",
      "memory usage: 312.6+ KB\n"
     ]
    }
   ],
   "source": [
    "df.info() #describes all data "
   ]
  },
  {
   "cell_type": "code",
   "execution_count": 6,
   "id": "7289dd7b",
   "metadata": {},
   "outputs": [],
   "source": [
    "df['age'].unique()\n",
    "df['age'] = pd.to_numeric(df['age'], errors = 'coerce') #this is a good choice if you have just a few nonnumeric values in a numeric column"
   ]
  },
  {
   "cell_type": "code",
   "execution_count": 7,
   "id": "c3d5499f",
   "metadata": {},
   "outputs": [
    {
     "data": {
      "text/plain": [
       "array([51., 18., 70., 69., 75., nan, 50., 41., 58., 33., 43., 30., 44.,\n",
       "       46., 66., 20., 56., 25., 47., 64., 65., 37., 80., 72., 59., 79.,\n",
       "       62., 29., 73., 21., 36., 40., 26., 39., 24., 68., 32., 48., 28.,\n",
       "       35., 63., 38., 19., 60., 57., 55., 42., 61., 49., 54., 45., 34.,\n",
       "       78., 74., 31., 23., 27., 53., 52., 22., 71., 77., 76., 67.])"
      ]
     },
     "execution_count": 7,
     "metadata": {},
     "output_type": "execute_result"
    }
   ],
   "source": [
    "df['age'].unique() #we need to probably do this a different way"
   ]
  },
  {
   "cell_type": "code",
   "execution_count": 8,
   "id": "895191ed",
   "metadata": {},
   "outputs": [
    {
     "data": {
      "text/plain": [
       "count    9022.000000\n",
       "mean             inf\n",
       "std              NaN\n",
       "min         0.000088\n",
       "25%         0.251260\n",
       "50%         0.501230\n",
       "75%         0.746332\n",
       "max              inf\n",
       "Name: potato_score, dtype: float64"
      ]
     },
     "execution_count": 8,
     "metadata": {},
     "output_type": "execute_result"
    }
   ],
   "source": [
    "df['potato_score'].describe()"
   ]
  },
  {
   "cell_type": "code",
   "execution_count": 10,
   "id": "280b3769",
   "metadata": {},
   "outputs": [
    {
     "data": {
      "text/html": [
       "<div>\n",
       "<style scoped>\n",
       "    .dataframe tbody tr th:only-of-type {\n",
       "        vertical-align: middle;\n",
       "    }\n",
       "\n",
       "    .dataframe tbody tr th {\n",
       "        vertical-align: top;\n",
       "    }\n",
       "\n",
       "    .dataframe thead th {\n",
       "        text-align: right;\n",
       "    }\n",
       "</style>\n",
       "<table border=\"1\" class=\"dataframe\">\n",
       "  <thead>\n",
       "    <tr style=\"text-align: right;\">\n",
       "      <th></th>\n",
       "      <th>Unnamed: 0</th>\n",
       "      <th>age</th>\n",
       "      <th>potato_score</th>\n",
       "    </tr>\n",
       "  </thead>\n",
       "  <tbody>\n",
       "    <tr>\n",
       "      <th>count</th>\n",
       "      <td>10000.00000</td>\n",
       "      <td>9053.000000</td>\n",
       "      <td>9015.000000</td>\n",
       "    </tr>\n",
       "    <tr>\n",
       "      <th>mean</th>\n",
       "      <td>4999.50000</td>\n",
       "      <td>49.015685</td>\n",
       "      <td>0.499884</td>\n",
       "    </tr>\n",
       "    <tr>\n",
       "      <th>std</th>\n",
       "      <td>2886.89568</td>\n",
       "      <td>18.213019</td>\n",
       "      <td>0.286943</td>\n",
       "    </tr>\n",
       "    <tr>\n",
       "      <th>min</th>\n",
       "      <td>0.00000</td>\n",
       "      <td>18.000000</td>\n",
       "      <td>0.000088</td>\n",
       "    </tr>\n",
       "    <tr>\n",
       "      <th>25%</th>\n",
       "      <td>2499.75000</td>\n",
       "      <td>33.000000</td>\n",
       "      <td>0.251037</td>\n",
       "    </tr>\n",
       "    <tr>\n",
       "      <th>50%</th>\n",
       "      <td>4999.50000</td>\n",
       "      <td>49.000000</td>\n",
       "      <td>0.501034</td>\n",
       "    </tr>\n",
       "    <tr>\n",
       "      <th>75%</th>\n",
       "      <td>7499.25000</td>\n",
       "      <td>65.000000</td>\n",
       "      <td>0.745697</td>\n",
       "    </tr>\n",
       "    <tr>\n",
       "      <th>max</th>\n",
       "      <td>9999.00000</td>\n",
       "      <td>80.000000</td>\n",
       "      <td>0.999822</td>\n",
       "    </tr>\n",
       "  </tbody>\n",
       "</table>\n",
       "</div>"
      ],
      "text/plain": [
       "        Unnamed: 0          age  potato_score\n",
       "count  10000.00000  9053.000000   9015.000000\n",
       "mean    4999.50000    49.015685      0.499884\n",
       "std     2886.89568    18.213019      0.286943\n",
       "min        0.00000    18.000000      0.000088\n",
       "25%     2499.75000    33.000000      0.251037\n",
       "50%     4999.50000    49.000000      0.501034\n",
       "75%     7499.25000    65.000000      0.745697\n",
       "max     9999.00000    80.000000      0.999822"
      ]
     },
     "execution_count": 10,
     "metadata": {},
     "output_type": "execute_result"
    }
   ],
   "source": [
    "import numpy as np\n",
    "df['potato_score'].replace([np.inf, -np.inf], np.nan, inplace = True) #replace infinite values\n",
    "df.describe()"
   ]
  },
  {
   "cell_type": "code",
   "execution_count": 11,
   "id": "df3ba0fc",
   "metadata": {},
   "outputs": [
    {
     "data": {
      "text/plain": [
       "array(['Nixie', 'Jocelyne', 'Virginia', 'Lesley', 'Juliana', 'Valaree',\n",
       "       'Maybelle', 'Corabella', 'Roch', 'Isidora', 'Magdalen',\n",
       "       'Georgiana', 'Jeanelle', 'Anetta', 'Phillis', 'Lotty', 'Batsheva',\n",
       "       'Terra', 'Vicki', 'Cris', 'Kelila', 'Kelci', 'Marylin', 'Sibby',\n",
       "       'Goldie', 'Kit', 'Neille', 'Gaylene', 'Shaylah', 'Bryna',\n",
       "       'Cecelia', 'Cosetta', 'Thia', 'Glenn', 'Holli', 'Karrah', 'Josey',\n",
       "       'Konstanze', 'Augustine', 'Dodi', 'Shaylyn', 'Tally', 'Lena',\n",
       "       'Alaine', 'Erda', 'Carilyn', 'Jilli', 'Alyssa', 'Eartha', 'Bryana',\n",
       "       'Mellisent', 'Karrie', 'Amandie', 'Prudence', 'Devondra', 'Madge',\n",
       "       'Tova', 'Lenora', 'Zia', 'Lynde', 'Fayre', 'Joceline', 'Sharyl',\n",
       "       'Bobbe', 'Editha', 'Eloisa', 'Kristen', 'Teddi', 'Dulsea',\n",
       "       'Mareah', 'Aidan', 'Emlynne', 'Julie', 'Maighdiln', 'Marion',\n",
       "       'Megan', 'Lind', 'Ashely', 'Alyss', 'Andrei', 'Monica', 'Teddy',\n",
       "       'Karyl', 'Rosalynd', 'Zorah', 'Jillene', 'Jenny', 'Norah',\n",
       "       'Cacilia', 'Nettie', 'Aubree', 'Dominga', 'Merci', 'Juliet',\n",
       "       'Bibbie', 'Margaret', 'Glynis', '99999', 'Candi', 'Dahlia',\n",
       "       'Minny'], dtype=object)"
      ]
     },
     "execution_count": 11,
     "metadata": {},
     "output_type": "execute_result"
    }
   ],
   "source": [
    "df['name'].unique()"
   ]
  },
  {
   "cell_type": "code",
   "execution_count": 20,
   "id": "779c7238",
   "metadata": {},
   "outputs": [
    {
     "data": {
      "text/plain": [
       "array(['Nixie', 'Jocelyne', 'Virginia', 'Lesley', 'Juliana', 'Valaree',\n",
       "       'Maybelle', 'Corabella', 'Roch', 'Isidora', 'Magdalen',\n",
       "       'Georgiana', 'Jeanelle', 'Anetta', 'Phillis', 'Lotty', 'Batsheva',\n",
       "       'Terra', 'Vicki', 'Cris', 'Kelila', 'Kelci', 'Marylin', 'Sibby',\n",
       "       'Goldie', 'Kit', 'Neille', 'Gaylene', 'Shaylah', 'Bryna',\n",
       "       'Cecelia', 'Cosetta', 'Thia', 'Glenn', 'Holli', 'Karrah', 'Josey',\n",
       "       'Konstanze', 'Augustine', 'Dodi', 'Shaylyn', 'Tally', 'Lena',\n",
       "       'Alaine', 'Erda', 'Carilyn', 'Jilli', 'Alyssa', 'Eartha', 'Bryana',\n",
       "       'Mellisent', 'Karrie', 'Amandie', 'Prudence', 'Devondra', 'Madge',\n",
       "       'Tova', 'Lenora', 'Zia', 'Lynde', 'Fayre', 'Joceline', 'Sharyl',\n",
       "       'Bobbe', 'Editha', 'Eloisa', 'Kristen', 'Teddi', 'Dulsea',\n",
       "       'Mareah', 'Aidan', 'Emlynne', 'Julie', 'Maighdiln', 'Marion',\n",
       "       'Megan', 'Lind', 'Ashely', 'Alyss', 'Andrei', 'Monica', 'Teddy',\n",
       "       'Karyl', 'Rosalynd', 'Zorah', 'Jillene', 'Jenny', 'Norah',\n",
       "       'Cacilia', 'Nettie', 'Aubree', 'Dominga', 'Merci', 'Juliet',\n",
       "       'Bibbie', 'Margaret', 'Glynis', nan, 'Candi', 'Dahlia', 'Minny'],\n",
       "      dtype=object)"
      ]
     },
     "execution_count": 20,
     "metadata": {},
     "output_type": "execute_result"
    }
   ],
   "source": [
    "df['name'].replace('99999', np.nan, inplace = True)\n",
    "df['name'].unique()"
   ]
  },
  {
   "cell_type": "code",
   "execution_count": 22,
   "id": "c5dcd654",
   "metadata": {},
   "outputs": [
    {
     "data": {
      "text/html": [
       "<div>\n",
       "<style scoped>\n",
       "    .dataframe tbody tr th:only-of-type {\n",
       "        vertical-align: middle;\n",
       "    }\n",
       "\n",
       "    .dataframe tbody tr th {\n",
       "        vertical-align: top;\n",
       "    }\n",
       "\n",
       "    .dataframe thead th {\n",
       "        text-align: right;\n",
       "    }\n",
       "</style>\n",
       "<table border=\"1\" class=\"dataframe\">\n",
       "  <thead>\n",
       "    <tr style=\"text-align: right;\">\n",
       "      <th></th>\n",
       "      <th>Unnamed: 0_x</th>\n",
       "      <th>age</th>\n",
       "      <th>potato_score</th>\n",
       "      <th>name</th>\n",
       "      <th>Unnamed: 0_y</th>\n",
       "      <th>num_potatoes</th>\n",
       "    </tr>\n",
       "  </thead>\n",
       "  <tbody>\n",
       "    <tr>\n",
       "      <th>0</th>\n",
       "      <td>0</td>\n",
       "      <td>51.0</td>\n",
       "      <td>0.274015</td>\n",
       "      <td>Nixie</td>\n",
       "      <td>50</td>\n",
       "      <td>621</td>\n",
       "    </tr>\n",
       "    <tr>\n",
       "      <th>1</th>\n",
       "      <td>29</td>\n",
       "      <td>37.0</td>\n",
       "      <td>0.876595</td>\n",
       "      <td>Nixie</td>\n",
       "      <td>50</td>\n",
       "      <td>621</td>\n",
       "    </tr>\n",
       "    <tr>\n",
       "      <th>2</th>\n",
       "      <td>113</td>\n",
       "      <td>72.0</td>\n",
       "      <td>0.009704</td>\n",
       "      <td>Nixie</td>\n",
       "      <td>50</td>\n",
       "      <td>621</td>\n",
       "    </tr>\n",
       "    <tr>\n",
       "      <th>3</th>\n",
       "      <td>130</td>\n",
       "      <td>54.0</td>\n",
       "      <td>0.718746</td>\n",
       "      <td>Nixie</td>\n",
       "      <td>50</td>\n",
       "      <td>621</td>\n",
       "    </tr>\n",
       "    <tr>\n",
       "      <th>4</th>\n",
       "      <td>167</td>\n",
       "      <td>78.0</td>\n",
       "      <td>0.230763</td>\n",
       "      <td>Nixie</td>\n",
       "      <td>50</td>\n",
       "      <td>621</td>\n",
       "    </tr>\n",
       "  </tbody>\n",
       "</table>\n",
       "</div>"
      ],
      "text/plain": [
       "   Unnamed: 0_x   age  potato_score   name  Unnamed: 0_y  num_potatoes\n",
       "0             0  51.0      0.274015  Nixie            50           621\n",
       "1            29  37.0      0.876595  Nixie            50           621\n",
       "2           113  72.0      0.009704  Nixie            50           621\n",
       "3           130  54.0      0.718746  Nixie            50           621\n",
       "4           167  78.0      0.230763  Nixie            50           621"
      ]
     },
     "execution_count": 22,
     "metadata": {},
     "output_type": "execute_result"
    }
   ],
   "source": [
    "merger_df = pd.read_csv('merge_file.csv')\n",
    "#print(merger_df.shape)\n",
    "new_df = df.merge(merger_df, on = 'name') #on value is column that you merge on\n",
    "new_df.head()\n"
   ]
  },
  {
   "cell_type": "code",
   "execution_count": null,
   "id": "8133e72d",
   "metadata": {},
   "outputs": [],
   "source": []
  }
 ],
 "metadata": {
  "kernelspec": {
   "display_name": "Python 3 (ipykernel)",
   "language": "python",
   "name": "python3"
  },
  "language_info": {
   "codemirror_mode": {
    "name": "ipython",
    "version": 3
   },
   "file_extension": ".py",
   "mimetype": "text/x-python",
   "name": "python",
   "nbconvert_exporter": "python",
   "pygments_lexer": "ipython3",
   "version": "3.10.1"
  }
 },
 "nbformat": 4,
 "nbformat_minor": 5
}
