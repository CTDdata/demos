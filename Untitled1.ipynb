{
 "cells": [
  {
   "cell_type": "code",
   "execution_count": null,
   "id": "94f00a04",
   "metadata": {},
   "outputs": [],
   "source": [
    "#dataset\n",
    "#http://scdb.wustl.edu/data.php\n",
    "\n",
    "#codebook\n",
    "#http://scdb.wustl.edu/documentation.php?var=decisionDirection\n",
    "#In order to determine whether an outcome is liberal (=2) or conservative (=1), the following scheme is employed."
   ]
  },
  {
   "cell_type": "code",
   "execution_count": 3,
   "id": "ea2d1dcd",
   "metadata": {
    "scrolled": true
   },
   "outputs": [
    {
     "data": {
      "text/html": [
       "<div>\n",
       "<style scoped>\n",
       "    .dataframe tbody tr th:only-of-type {\n",
       "        vertical-align: middle;\n",
       "    }\n",
       "\n",
       "    .dataframe tbody tr th {\n",
       "        vertical-align: top;\n",
       "    }\n",
       "\n",
       "    .dataframe thead th {\n",
       "        text-align: right;\n",
       "    }\n",
       "</style>\n",
       "<table border=\"1\" class=\"dataframe\">\n",
       "  <thead>\n",
       "    <tr style=\"text-align: right;\">\n",
       "      <th></th>\n",
       "      <th>dateArgument</th>\n",
       "      <th>decisionDirection</th>\n",
       "    </tr>\n",
       "  </thead>\n",
       "  <tbody>\n",
       "    <tr>\n",
       "      <th>0</th>\n",
       "      <td>1946-01-09</td>\n",
       "      <td>2.0</td>\n",
       "    </tr>\n",
       "    <tr>\n",
       "      <th>1</th>\n",
       "      <td>1945-10-10</td>\n",
       "      <td>1.0</td>\n",
       "    </tr>\n",
       "    <tr>\n",
       "      <th>2</th>\n",
       "      <td>1945-11-08</td>\n",
       "      <td>2.0</td>\n",
       "    </tr>\n",
       "    <tr>\n",
       "      <th>3</th>\n",
       "      <td>1946-01-31</td>\n",
       "      <td>2.0</td>\n",
       "    </tr>\n",
       "    <tr>\n",
       "      <th>4</th>\n",
       "      <td>1946-10-25</td>\n",
       "      <td>2.0</td>\n",
       "    </tr>\n",
       "  </tbody>\n",
       "</table>\n",
       "</div>"
      ],
      "text/plain": [
       "  dateArgument  decisionDirection\n",
       "0   1946-01-09                2.0\n",
       "1   1945-10-10                1.0\n",
       "2   1945-11-08                2.0\n",
       "3   1946-01-31                2.0\n",
       "4   1946-10-25                2.0"
      ]
     },
     "execution_count": 3,
     "metadata": {},
     "output_type": "execute_result"
    }
   ],
   "source": [
    "import pandas as pd\n",
    "import numpy as np\n",
    "import matplotlib.pyplot as plt\n",
    "file = 'SCDB_2021_01_caseCentered_Citation.dta'\n",
    "columns = ['dateArgument', 'decisionDirection'] #columns to use\n",
    "#columns parameter limits to necessary columns\n",
    "df = pd.read_stata(file, convert_categoricals = False, columns = columns) \n",
    "df.head()\n"
   ]
  },
  {
   "cell_type": "code",
   "execution_count": 11,
   "id": "4afe2480",
   "metadata": {},
   "outputs": [
    {
     "data": {
      "text/plain": [
       "Text(0.5, 1.0, '% Conservative Votes Over Time')"
      ]
     },
     "execution_count": 11,
     "metadata": {},
     "output_type": "execute_result"
    },
    {
     "data": {
      "image/png": "[encoded data removed]",
      "text/plain": [
       "<Figure size 432x288 with 1 Axes>"
      ]
     },
     "metadata": {
      "needs_background": "light"
     },
     "output_type": "display_data"
    }
   ],
   "source": [
    "df['year'] = df['dateArgument'].dt.year #create year column\n",
    "\n",
    "#restrict dataset to 2010-2020 \n",
    "aughts_df = df[df['year']>=2010]\n",
    "aughts_df = aughts_df[aughts_df['year']<=2020]\n",
    "#create groupby as dataframe\n",
    "dec_table = aughts_df.groupby('year')['decisionDirection'].value_counts(\n",
    "    normalize=True).to_frame(\n",
    "    name='percent').reset_index()\n",
    "dec_table['percent'] = dec_table['percent'] *100\n",
    "dec_table = dec_table[dec_table['decisionDirection'] == 1]\n",
    "#create x and y variables for independent and dependent variables, respectively\n",
    "x = dec_table['year']\n",
    "y = dec_table['percent']\n",
    "#visualize scatter\n",
    "plt.scatter(x = x, y = y)\n",
    "\n",
    "#add line of best fit to scatter\n",
    "a, b = np.polyfit(x, y, 1)\n",
    "plt.plot(x, a*x+b)\n",
    "\n",
    "#title \n",
    "plt.title('% Conservative Votes Over Time')"
   ]
  },
  {
   "cell_type": "code",
   "execution_count": 16,
   "id": "7fb97556",
   "metadata": {},
   "outputs": [
    {
     "data": {
      "text/plain": [
       "[<matplotlib.lines.Line2D at 0x11e8eb010>]"
      ]
     },
     "execution_count": 16,
     "metadata": {},
     "output_type": "execute_result"
    },
    {
     "data": {
      "image/png": "[encoded data removed]",
      "text/plain": [
       "<Figure size 432x288 with 1 Axes>"
      ]
     },
     "metadata": {
      "needs_background": "light"
     },
     "output_type": "display_data"
    }
   ],
   "source": [
    "lc_df = df[df['decisionDirection']<=2]\n",
    "mean_table = lc_df.groupby('year')['decisionDirection'].mean().to_frame(name = 'mean').reset_index()\n",
    "ind= mean_table['year']\n",
    "dep=  mean_table['mean']\n",
    "plt.scatter(x=ind, y = dep)\n",
    "plt.title('Mean Decision Direction over Time')\n",
    "a, b = np.polyfit(ind, dep, 1)\n",
    "plt.plot(ind, a*ind+b)"
   ]
  },
  {
   "cell_type": "code",
   "execution_count": null,
   "id": "59075aa9",
   "metadata": {},
   "outputs": [],
   "source": []
  }
 ],
 "metadata": {
  "kernelspec": {
   "display_name": "Python 3 (ipykernel)",
   "language": "python",
   "name": "python3"
  },
  "language_info": {
   "codemirror_mode": {
    "name": "ipython",
    "version": 3
   },
   "file_extension": ".py",
   "mimetype": "text/x-python",
   "name": "python",
   "nbconvert_exporter": "python",
   "pygments_lexer": "ipython3",
   "version": "3.10.1"
  }
 },
 "nbformat": 4,
 "nbformat_minor": 5
}
